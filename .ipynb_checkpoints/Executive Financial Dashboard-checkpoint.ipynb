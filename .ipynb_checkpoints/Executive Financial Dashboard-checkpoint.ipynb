{
 "cells": [
  {
   "cell_type": "markdown",
   "id": "2d14e041-ee6a-4fed-88ff-bffa1f212adf",
   "metadata": {},
   "source": [
    "### 1. Data Loading"
   ]
  },
  {
   "cell_type": "code",
   "execution_count": 56,
   "id": "d4e0176c-7a8d-44fb-92cb-c6f436519219",
   "metadata": {},
   "outputs": [],
   "source": [
    "# Import dependencies\n",
    "import pandas as pd"
   ]
  },
  {
   "cell_type": "code",
   "execution_count": 58,
   "id": "bceed7bb-f645-4c90-90b4-7d2af8812901",
   "metadata": {},
   "outputs": [
    {
     "data": {
      "text/html": [
       "<div>\n",
       "<style scoped>\n",
       "    .dataframe tbody tr th:only-of-type {\n",
       "        vertical-align: middle;\n",
       "    }\n",
       "\n",
       "    .dataframe tbody tr th {\n",
       "        vertical-align: top;\n",
       "    }\n",
       "\n",
       "    .dataframe thead th {\n",
       "        text-align: right;\n",
       "    }\n",
       "</style>\n",
       "<table border=\"1\" class=\"dataframe\">\n",
       "  <thead>\n",
       "    <tr style=\"text-align: right;\">\n",
       "      <th></th>\n",
       "      <th>Date</th>\n",
       "      <th>Store</th>\n",
       "      <th>Region</th>\n",
       "      <th>Product Category</th>\n",
       "      <th>Product Subcategory</th>\n",
       "      <th>Units Sold</th>\n",
       "      <th>Unit Price</th>\n",
       "      <th>Marketing Spend</th>\n",
       "      <th>Revenue</th>\n",
       "      <th>COGS</th>\n",
       "      <th>Gross Profit</th>\n",
       "      <th>Net Profit</th>\n",
       "    </tr>\n",
       "  </thead>\n",
       "  <tbody>\n",
       "    <tr>\n",
       "      <th>0</th>\n",
       "      <td>2022-01-01</td>\n",
       "      <td>Store B</td>\n",
       "      <td>West</td>\n",
       "      <td>Sports</td>\n",
       "      <td>Outdoor</td>\n",
       "      <td>36</td>\n",
       "      <td>434.16</td>\n",
       "      <td>183.14</td>\n",
       "      <td>15629.76</td>\n",
       "      <td>6911.575877</td>\n",
       "      <td>8718.184123</td>\n",
       "      <td>8535.044123</td>\n",
       "    </tr>\n",
       "    <tr>\n",
       "      <th>1</th>\n",
       "      <td>2022-01-01</td>\n",
       "      <td>Store F</td>\n",
       "      <td>West</td>\n",
       "      <td>Beauty</td>\n",
       "      <td>Haircare</td>\n",
       "      <td>19</td>\n",
       "      <td>276.49</td>\n",
       "      <td>397.66</td>\n",
       "      <td>5253.31</td>\n",
       "      <td>2320.134775</td>\n",
       "      <td>2933.175225</td>\n",
       "      <td>2535.515225</td>\n",
       "    </tr>\n",
       "    <tr>\n",
       "      <th>2</th>\n",
       "      <td>2022-01-01</td>\n",
       "      <td>Store C</td>\n",
       "      <td>South</td>\n",
       "      <td>Grocery</td>\n",
       "      <td>Snacks</td>\n",
       "      <td>61</td>\n",
       "      <td>861.96</td>\n",
       "      <td>314.91</td>\n",
       "      <td>52579.56</td>\n",
       "      <td>21946.025852</td>\n",
       "      <td>30633.534148</td>\n",
       "      <td>30318.624148</td>\n",
       "    </tr>\n",
       "    <tr>\n",
       "      <th>3</th>\n",
       "      <td>2022-01-01</td>\n",
       "      <td>Store J</td>\n",
       "      <td>South</td>\n",
       "      <td>Grocery</td>\n",
       "      <td>Fresh Produce</td>\n",
       "      <td>94</td>\n",
       "      <td>372.56</td>\n",
       "      <td>9.22</td>\n",
       "      <td>35020.64</td>\n",
       "      <td>23996.010323</td>\n",
       "      <td>11024.629677</td>\n",
       "      <td>11015.409677</td>\n",
       "    </tr>\n",
       "    <tr>\n",
       "      <th>4</th>\n",
       "      <td>2022-01-01</td>\n",
       "      <td>Store B</td>\n",
       "      <td>North</td>\n",
       "      <td>Grocery</td>\n",
       "      <td>Snacks</td>\n",
       "      <td>15</td>\n",
       "      <td>547.82</td>\n",
       "      <td>230.34</td>\n",
       "      <td>8217.30</td>\n",
       "      <td>5510.707350</td>\n",
       "      <td>2706.592650</td>\n",
       "      <td>2476.252650</td>\n",
       "    </tr>\n",
       "  </tbody>\n",
       "</table>\n",
       "</div>"
      ],
      "text/plain": [
       "         Date    Store Region Product Category Product Subcategory  \\\n",
       "0  2022-01-01  Store B   West           Sports             Outdoor   \n",
       "1  2022-01-01  Store F   West           Beauty            Haircare   \n",
       "2  2022-01-01  Store C  South          Grocery              Snacks   \n",
       "3  2022-01-01  Store J  South          Grocery       Fresh Produce   \n",
       "4  2022-01-01  Store B  North          Grocery              Snacks   \n",
       "\n",
       "   Units Sold  Unit Price  Marketing Spend   Revenue          COGS  \\\n",
       "0          36      434.16           183.14  15629.76   6911.575877   \n",
       "1          19      276.49           397.66   5253.31   2320.134775   \n",
       "2          61      861.96           314.91  52579.56  21946.025852   \n",
       "3          94      372.56             9.22  35020.64  23996.010323   \n",
       "4          15      547.82           230.34   8217.30   5510.707350   \n",
       "\n",
       "   Gross Profit    Net Profit  \n",
       "0   8718.184123   8535.044123  \n",
       "1   2933.175225   2535.515225  \n",
       "2  30633.534148  30318.624148  \n",
       "3  11024.629677  11015.409677  \n",
       "4   2706.592650   2476.252650  "
      ]
     },
     "metadata": {},
     "output_type": "display_data"
    }
   ],
   "source": [
    "# Load the data\n",
    "df = pd.read_csv(\"Resources/retail_store_data_large.csv\")\n",
    "\n",
    "# Display the data\n",
    "display(df.head())"
   ]
  },
  {
   "cell_type": "markdown",
   "id": "e04d72cf-1ff9-4ad3-8890-2f4db0a954f6",
   "metadata": {},
   "source": [
    "### 2. Data Cleaning"
   ]
  },
  {
   "cell_type": "code",
   "execution_count": 61,
   "id": "e1839ed6-a809-4587-9533-9524ccea3762",
   "metadata": {},
   "outputs": [
    {
     "name": "stdout",
     "output_type": "stream",
     "text": [
      "Initial shape: (100000, 12)\n",
      "\n",
      "Data types:\n",
      " Date                    object\n",
      "Store                   object\n",
      "Region                  object\n",
      "Product Category        object\n",
      "Product Subcategory     object\n",
      "Units Sold               int64\n",
      "Unit Price             float64\n",
      "Marketing Spend        float64\n",
      "Revenue                float64\n",
      "COGS                   float64\n",
      "Gross Profit           float64\n",
      "Net Profit             float64\n",
      "dtype: object\n",
      "\n",
      "Missing values:\n",
      " Date                   0\n",
      "Store                  0\n",
      "Region                 0\n",
      "Product Category       0\n",
      "Product Subcategory    0\n",
      "Units Sold             0\n",
      "Unit Price             0\n",
      "Marketing Spend        0\n",
      "Revenue                0\n",
      "COGS                   0\n",
      "Gross Profit           0\n",
      "Net Profit             0\n",
      "dtype: int64\n"
     ]
    }
   ],
   "source": [
    "# 1. Initial inspection\n",
    "print(\"Initial shape:\", df.shape)\n",
    "print(\"\\nData types:\\n\", df.dtypes)\n",
    "print(\"\\nMissing values:\\n\", df.isnull().sum())"
   ]
  },
  {
   "cell_type": "code",
   "execution_count": 63,
   "id": "947cde38-07b8-4779-a42c-982032da5881",
   "metadata": {},
   "outputs": [
    {
     "name": "stdout",
     "output_type": "stream",
     "text": [
      "\n",
      "Shape after removing duplicates: (100000, 12)\n"
     ]
    }
   ],
   "source": [
    "# 2. Handle duplicates\n",
    "df = df.drop_duplicates()\n",
    "print(\"\\nShape after removing duplicates:\", df.shape)"
   ]
  },
  {
   "cell_type": "code",
   "execution_count": 65,
   "id": "7dd5acdd-46ea-4a0a-bca2-8d8602126d76",
   "metadata": {},
   "outputs": [],
   "source": [
    "# 3. Fix date format with error handling\n",
    "df['Date'] = pd.to_datetime(df['Date'], errors='coerce')  # converts invalid dates to NaT\n",
    "invalid_dates = df[df['Date'].isna()]\n",
    "if not invalid_dates.empty:\n",
    "    print(f\"\\nWarning: {len(invalid_dates)} rows with invalid dates\")"
   ]
  },
  {
   "cell_type": "code",
   "execution_count": 69,
   "id": "2e0f9147-4ed4-40b7-8e80-471b1e958aa6",
   "metadata": {},
   "outputs": [],
   "source": [
    "# 4. Standardize text fields\n",
    "df['Region'] = df['Region'].str.title().str.strip()  # also removes extra whitespace\n",
    "df['Product_Category'] = df['Product Category'].str.title().str.strip()"
   ]
  },
  {
   "cell_type": "code",
   "execution_count": 75,
   "id": "57e522e1-7713-493d-94fc-d71fad0c7f56",
   "metadata": {},
   "outputs": [],
   "source": [
    "# 5. Handle missing values more robustly\n",
    "# For numerical columns, consider median instead of 0 for marketing spend\n",
    "median_marketing = df['Marketing Spend'].median()\n",
    "df['Marketing_Spend'] = df['Marketing Spend'].fillna(median_marketing)\n",
    "\n",
    "# For categorical columns\n",
    "df['Region'] = df['Region'].fillna('Unknown')"
   ]
  },
  {
   "cell_type": "code",
   "execution_count": 81,
   "id": "8f93365b-96a9-417f-8133-a9b63b9cefde",
   "metadata": {},
   "outputs": [
    {
     "name": "stdout",
     "output_type": "stream",
     "text": [
      "\n",
      "Value ranges:\n",
      "Revenue: 6.04 - 98974.26\n",
      "Gross Profit: 2.419622333484721 - 58681.29466251924\n"
     ]
    }
   ],
   "source": [
    "# 6. Validate numerical ranges\n",
    "print(\"\\nValue ranges:\")\n",
    "print(\"Revenue:\", df['Revenue'].min(), \"-\", df['Revenue'].max())\n",
    "print(\"Gross Profit:\", df['Gross Profit'].min(), \"-\", df['Gross Profit'].max())"
   ]
  },
  {
   "cell_type": "code",
   "execution_count": 83,
   "id": "f60fb3bc-91e4-472d-9be0-afdaea33943a",
   "metadata": {},
   "outputs": [],
   "source": [
    "# 7. Calculate derived metrics with safety checks\n",
    "df['Gross Margin'] = (df['Gross Profit'] / df['Revenue'].replace(0, pd.NA)).round(4)\n",
    "invalid_margins = df[df['Gross Margin'].isna()]\n",
    "if not invalid_margins.empty:\n",
    "    print(f\"\\nWarning: {len(invalid_margins)} rows with zero revenue\")"
   ]
  },
  {
   "cell_type": "code",
   "execution_count": 85,
   "id": "e5ecc507-7ba5-4918-a963-9c637e4845ef",
   "metadata": {},
   "outputs": [],
   "source": [
    "# 8. Additional quality checks\n",
    "# Check for negative values where they shouldn't exist\n",
    "negative_revenue = df[df['Revenue'] < 0]\n",
    "if not negative_revenue.empty:\n",
    "    print(f\"\\nWarning: {len(negative_revenue)} rows with negative revenue\")"
   ]
  },
  {
   "cell_type": "code",
   "execution_count": 87,
   "id": "48359b7f-5bee-4e97-9e60-0773aace8982",
   "metadata": {},
   "outputs": [
    {
     "name": "stdout",
     "output_type": "stream",
     "text": [
      "\n",
      "Final shape: (100000, 15)\n",
      "\n",
      "Sample of cleaned data:\n",
      "            Date    Store Region Product Category Product Subcategory  \\\n",
      "80042 2024-05-26  Store D   East      Electronics              Phones   \n",
      "21089 2022-08-20  Store D   East           Beauty            Skincare   \n",
      "78887 2024-05-13  Store H  South           Sports             Fitness   \n",
      "63499 2023-11-26  Store B  South             Toys      Action Figures   \n",
      "46359 2023-05-25  Store I   East           Beauty            Skincare   \n",
      "\n",
      "       Units Sold  Unit Price  Marketing Spend   Revenue          COGS  \\\n",
      "80042          87      343.55           206.71  29888.85  12201.246049   \n",
      "21089          23      113.37           384.87   2607.51   1706.454671   \n",
      "78887          28      244.99           391.10   6859.72   2940.398260   \n",
      "63499          67      344.67            58.96  23092.89  12807.626806   \n",
      "46359          66      995.70            83.16  65716.20  37062.668185   \n",
      "\n",
      "       Gross Profit    Net Profit Product_Category  Marketing_Spend  \\\n",
      "80042  17687.603951  17480.893951      Electronics           206.71   \n",
      "21089    901.055329    516.185329           Beauty           384.87   \n",
      "78887   3919.321740   3528.221740           Sports           391.10   \n",
      "63499  10285.263194  10226.303194             Toys            58.96   \n",
      "46359  28653.531815  28570.371815           Beauty            83.16   \n",
      "\n",
      "       Gross Margin  \n",
      "80042        0.5918  \n",
      "21089        0.3456  \n",
      "78887        0.5714  \n",
      "63499        0.4454  \n",
      "46359        0.4360  \n"
     ]
    }
   ],
   "source": [
    "# 9. Final inspection\n",
    "print(\"\\nFinal shape:\", df.shape)\n",
    "print(\"\\nSample of cleaned data:\")\n",
    "print(df.sample(5))"
   ]
  },
  {
   "cell_type": "code",
   "execution_count": 91,
   "id": "5795120b-35ac-4d32-9ce5-86daea6f7359",
   "metadata": {},
   "outputs": [
    {
     "name": "stdout",
     "output_type": "stream",
     "text": [
      "\n",
      "Cleaning complete! Files saved with timestamp.\n"
     ]
    }
   ],
   "source": [
    "# 10. Export cleaned data with timestamp\n",
    "from datetime import datetime\n",
    "timestamp = datetime.now().strftime(\"%Y%m%d_%H%M\")\n",
    "df.to_csv(f\"retail_data_cleaned_{timestamp}.csv\", index=False)\n",
    "df.to_parquet(f\"retail_data_cleaned_{timestamp}.parquet\")\n",
    "\n",
    "print(\"\\nCleaning complete! Files saved with timestamp.\")"
   ]
  },
  {
   "cell_type": "code",
   "execution_count": null,
   "id": "b32d000b-a7dd-4eee-949d-4d61d69b0693",
   "metadata": {},
   "outputs": [],
   "source": []
  }
 ],
 "metadata": {
  "kernelspec": {
   "display_name": "Python [conda env:dev]",
   "language": "python",
   "name": "conda-env-dev-py"
  },
  "language_info": {
   "codemirror_mode": {
    "name": "ipython",
    "version": 3
   },
   "file_extension": ".py",
   "mimetype": "text/x-python",
   "name": "python",
   "nbconvert_exporter": "python",
   "pygments_lexer": "ipython3",
   "version": "3.10.13"
  }
 },
 "nbformat": 4,
 "nbformat_minor": 5
}
